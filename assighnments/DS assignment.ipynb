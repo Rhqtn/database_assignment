{
 "cells": [
  {
   "cell_type": "markdown",
   "id": "8e47697c",
   "metadata": {},
   "source": [
    "## 데이터사이언스개론 과제 \n",
    "201800538 헝가리어과 김건우"
   ]
  },
  {
   "cell_type": "code",
   "execution_count": 15,
   "id": "2ed64cfa",
   "metadata": {},
   "outputs": [
    {
     "name": "stdout",
     "output_type": "stream",
     "text": [
      "\n",
      "head ->  200 ->  4000 ->  370 ->  770 ->  480 ->  150 ->  370 ->  None\n",
      "head ->  200 ->  4000 ->  370 ->  990 ->  480 ->  150 ->  370 ->  None\n",
      "Error\n",
      "2번째 원소 4000를 삭제합니다\n",
      "해당하는 원소가 없습니다.\n"
     ]
    }
   ],
   "source": [
    "# 201800538 헝가리어과 김건우 *정상 동작*\n",
    "\n",
    "# Node 클래스 정의\n",
    "class Node:\n",
    "\tdef __init__(self, data):\n",
    "\t\tself.data = data\n",
    "\t\tself.next = None\n",
    "\t\n",
    "# LinkedList 클래스 정의\n",
    "class LinkedList:\n",
    "\n",
    "\t# 초기화 메소드\n",
    "\tdef __init__(self):\n",
    "\t\tdummy = Node(\"dummy\")\n",
    "\t\tself.head = dummy\n",
    "\t\tself.tail = dummy\n",
    "\n",
    "\t\tself.current = None\n",
    "\t\tself.before = None\n",
    "\n",
    "\t\tself.num_of_data = 0\n",
    "\t\n",
    "\tdef __str__(self):\n",
    "\t\treturn f\"{self.data}\"\n",
    "\n",
    "\t# append 메소드 (insert - 맨 뒤에 노드 추가, tail과 node의 next, 데이터 개수 변경)\n",
    "\tdef append(self, data):\n",
    "\t\tnew_node = Node(data)\n",
    "\t\tself.tail.next = new_node\n",
    "\t\tself.tail = new_node\n",
    "\n",
    "\t\tself.num_of_data += 1\n",
    "\n",
    "\t# delete 메소드 (delete - current 노드 삭제, 인접 노드의 current, next 변경, 데이터 개수 변경)\n",
    "\tdef delete(self):\n",
    "\t\tpop_data = self.current.data\n",
    "\n",
    "\t\tif self.current is self.tail:\n",
    "\t\t\tself.tail = self.before\n",
    "\n",
    "\t\t# 중요 : current가 next가 아닌 before로 변경된다.\n",
    "\t\tself.before.next = self.current.next\n",
    "\t\tself.current = self.before \n",
    "\n",
    "\t\tself.num_of_data -= 1\n",
    "\t\treturn pop_data\n",
    "\n",
    "\t# first 메소드 (search1 - 맨 앞의 노드 검색, before, current 변경)\n",
    "\tdef first(self):\n",
    "\t\t# 데이터가 없는 경우 첫번째 노드도 없기 때문에 None 리턴\n",
    "\t\tif self.num_of_data == 0: \n",
    "\t\t\treturn None\n",
    "\n",
    "\t\tself.before = self.head\n",
    "\t\tself.current = self.head.next\n",
    "\n",
    "\t\treturn self.current.data\n",
    "\n",
    "\t# next 메소드 (search2 - current 노드의 다음 노드 검색, 이전에 first 메소드가 한번은 실행되어야 함)\n",
    "\tdef next(self):\n",
    "\t\tif self.current.next == None:\n",
    "\t\t\treturn None\n",
    "\n",
    "\t\tself.before = self.current\n",
    "\t\tself.current = self.current.next\n",
    "\n",
    "\t\treturn self.current.data\n",
    "\t\n",
    "\t# size 메소드\n",
    "\tdef size(self):\n",
    "\t\treturn self.num_of_data \n",
    "\n",
    "\tdef traverse_all(self):\n",
    "\t\tprint(\"\\nhead -> \",self.first(), end=\"\")\n",
    "\t\tfor i in range(self.num_of_data):\n",
    "\t\t\tprint(\" -> \",self.next(), end=\"\")\n",
    "\n",
    "\tdef insert_at(self, position, new_data):\n",
    "\t\tif position <= 0:\n",
    "\t\t\tprint(\"\\nError\")\n",
    "\t\t\treturn\n",
    "\t\telif position > self.size():\n",
    "\t\t\tself.append(new_data)\n",
    "\t\telse:\n",
    "\t\t\tnew_data = Node(new_data)\n",
    "\t\t\tself.first()\n",
    "\t\t\tfor i in range(position-1):\n",
    "\t\t\t\tself.next()\n",
    "\t\t\tnew_data.next = self.current.next\n",
    "\t\t\tself.before.next = new_data\n",
    "\t\t\tself.current = self.before.next\n",
    "\n",
    "\tdef remove(self, key):\n",
    "\t\tself.first()\n",
    "\t\tcount = 1\n",
    "\t\thas_removed = 0\n",
    "\t\tfor i in range(self.size()):\n",
    "\t\t\tif self.current.data == key:\n",
    "\t\t\t\tself.delete()\n",
    "\t\t\t\tprint(f\"{count}번째 원소 {key}를 삭제합니다\")\n",
    "\t\t\t\tself.next()\n",
    "\t\t\t\thas_removed = 1\n",
    "\t\t\telif count == self.size():\n",
    "\t\t\t\tif has_removed == 1:\n",
    "\t\t\t\t\treturn\n",
    "\t\t\t\telse:\n",
    "\t\t\t\t\tprint(\"해당하는 원소가 없습니다.\")\n",
    "\t\t\t\t\treturn\n",
    "\t\t\telse:\n",
    "\t\t\t\tself.next()\n",
    "\t\t\t\tcount += 1\n",
    "                \n",
    "test_list = LinkedList()\n",
    "#test append()\n",
    "test_list.append(200)\n",
    "test_list.append(4000)\n",
    "test_list.append(370)\n",
    "test_list.append(770)\n",
    "test_list.append(480)\n",
    "test_list.append(150)\n",
    "test_list.append(370)\n",
    "#test traverse_all()\n",
    "test_list.traverse_all()\n",
    "test_list.insert_at(4, 990)\n",
    "test_list.traverse_all()\n",
    "#test error msg when position <= 0\n",
    "test_list.insert_at(0, 990)\n",
    "test_list.remove(4000)\n",
    "#test \"해당하는 원소가 없습니다\" msg\n",
    "test_list.remove(0)"
   ]
  },
  {
   "cell_type": "markdown",
   "id": "d1b6374d",
   "metadata": {},
   "source": [
    "## 테스트 결과 \n",
    "테스트 결과를 보면 traverse_all(), insert_at, position이 0일 때의 insert_at의 에러 메세지,"
   ]
  },
  {
   "cell_type": "markdown",
   "id": "42e5fbe5",
   "metadata": {},
   "source": [
    "remove(), remove()의 원소가 없을 때의 경우 모두 잘 동작하는것을 볼 수 있다"
   ]
  },
  {
   "cell_type": "markdown",
   "id": "44eef3fd",
   "metadata": {},
   "source": [
    "## 각각의 function 설명"
   ]
  },
  {
   "cell_type": "markdown",
   "id": "94fb6c8b",
   "metadata": {},
   "source": [
    "## traverse_all()"
   ]
  },
  {
   "cell_type": "code",
   "execution_count": null,
   "id": "ebfcf20c",
   "metadata": {},
   "outputs": [],
   "source": [
    "\tdef traverse_all(self):\n",
    "\t\tprint(\"\\nhead -> \",self.first(), end=\"\")\n",
    "\t\tfor i in range(self.num_of_data):\n",
    "\t\t\tprint(\" -> \",self.next(), end=\"\")"
   ]
  },
  {
   "cell_type": "markdown",
   "id": "d444a298",
   "metadata": {},
   "source": [
    "- traverse_all() 은 head부터 tail까지 각 노드를 순차적으로 \n",
    "    탐색하며 각 노드의 data를 print하는 함수이다.\n",
    "- 먼저 head를 출력해준 이후, for문을 통해 데이터를 하나씩 출력해준다.\n",
    "- 출력 형식:  head -> (100) -> (72) -> (325) -> null"
   ]
  },
  {
   "cell_type": "markdown",
   "id": "2ae5ae98",
   "metadata": {},
   "source": [
    "## insert_at()"
   ]
  },
  {
   "cell_type": "code",
   "execution_count": null,
   "id": "b3854d82",
   "metadata": {},
   "outputs": [],
   "source": [
    "\tdef insert_at(self, position, new_data):\n",
    "\t\tif position <= 0:\n",
    "\t\t\tprint(\"\\nError\")\n",
    "\t\t\treturn\n",
    "\t\telif position > self.size():\n",
    "\t\t\tself.append(new_data)\n",
    "\t\telse:\n",
    "\t\t\tnew_data = Node(new_data)\n",
    "\t\t\tself.first()\n",
    "\t\t\tfor i in range(position-1):\n",
    "\t\t\t\tself.next()\n",
    "\t\t\tnew_data.next = self.current.next\n",
    "\t\t\tself.before.next = new_data\n",
    "\t\t\tself.current = self.before.next"
   ]
  },
  {
   "cell_type": "markdown",
   "id": "63e534e9",
   "metadata": {},
   "source": [
    "- 리스트의 주어진 위치(position)에 new_data를 삽입하며, head로 인해 맨 첫 원소의 위치는 1로 정하며, 0 이하의 position 값이 입력되면 error 문을 출력한다.\n",
    "- 만일 position이 현재 리스트의 크기(원소 갯수)보다 크면 맨 마지막에 new_data를 삽입한다.\n",
    "- 앞에서도 언급했듯이 먼저 포지션이 0이거나 그보다 작을 경우 없는 위치이므로 에러를 프린트하고, 그 경우가 아니라면 전체 노드의 개수보다 큰 숫자일 때는 단순히 마지막에 append() 해준다. 만약 위 두 경우가 아닌 중간에 위치한 포지션이라면, 먼저 first()를 통해 current를 처음으로 바꾸어주고, 알맞은 위치로 이동할 때까지 포문으로 next()를 통해 current 옮기고, 위치에 삽입한다."
   ]
  },
  {
   "cell_type": "code",
   "execution_count": null,
   "id": "eedae341",
   "metadata": {},
   "outputs": [],
   "source": [
    "def remove(self, key):\n",
    "\t\tself.first()\n",
    "\t\tcount = 1\n",
    "\t\thas_removed = 0\n",
    "\t\tfor i in range(self.size()):\n",
    "\t\t\tif self.current.data == key:\n",
    "\t\t\t\tself.delete()\n",
    "\t\t\t\tprint(f\"{count}번째 원소 {key}를 삭제합니다\")\n",
    "\t\t\t\tself.next()\n",
    "\t\t\t\thas_removed = 1\n",
    "\t\t\t\tcount += 1\n",
    "\t\t\telif count == self.size():\n",
    "\t\t\t\tif has_removed == 1:\n",
    "\t\t\t\t\treturn\n",
    "\t\t\t\telse:\n",
    "\t\t\t\t\tprint(\"해당하는 원소가 없습니다.\")\n",
    "\t\t\t\t\treturn\n",
    "\t\t\telse:\n",
    "\t\t\t\tself.next()\n",
    "\t\t\t\tcount += 1"
   ]
  },
  {
   "cell_type": "markdown",
   "id": "0a2379ee",
   "metadata": {},
   "source": [
    "- 리스트의 원소 가운데 key값과 일치하는 원소를 모두 삭제하고, 리스트를 수정한다. 이 때, 처리 결과를 다음 예와 같이 출력한다. \"3번째 원소(key)를 삭제합니다. \"\n",
    "- 만약 해당하는 원소가 없을 경우에 다음 출력을 실행한다. \"해당하는 원소가 없습니다.\"\n",
    "- 먼저 처음부터 순회할 수 있도록 current 의 위치를 처음으로 옮겨주고, count를 통해 끝까지 순회하였을 때 종료할 수 있도록, has_removed를 통해서 데이터가 지워진 적이 있었는지 저장한다.\n",
    "- 그 다음 포문으로 하나씩 current를 움직이며 입력된 key가 current가 가리키고 있는 key와 일치하는지 확인한다. 만약 일치한다며 그 원소를 삭제하고, 정해진 문구를 출력 후 지웠다는 것을 남기기 위해 has_removed를 1로 변경해준다. 또한 다음 순회를 위해 count를 1더하고, 다음 위치포 current를 이동한다.\n",
    "- 만약 count 와 데이터의 개수가 같아지면 모두 순회를 마친 것이므로, has_removed 가 1이라면 단순 종료, 0이라면 찾은 원소가 없다는 문구를 출력한다."
   ]
  }
 ],
 "metadata": {
  "kernelspec": {
   "display_name": "Python 3 (ipykernel)",
   "language": "python",
   "name": "python3"
  },
  "language_info": {
   "codemirror_mode": {
    "name": "ipython",
    "version": 3
   },
   "file_extension": ".py",
   "mimetype": "text/x-python",
   "name": "python",
   "nbconvert_exporter": "python",
   "pygments_lexer": "ipython3",
   "version": "3.10.9"
  },
  "toc": {
   "base_numbering": 1,
   "nav_menu": {},
   "number_sections": true,
   "sideBar": true,
   "skip_h1_title": false,
   "title_cell": "Table of Contents",
   "title_sidebar": "Contents",
   "toc_cell": false,
   "toc_position": {},
   "toc_section_display": true,
   "toc_window_display": false
  },
  "varInspector": {
   "cols": {
    "lenName": 16,
    "lenType": 16,
    "lenVar": 40
   },
   "kernels_config": {
    "python": {
     "delete_cmd_postfix": "",
     "delete_cmd_prefix": "del ",
     "library": "var_list.py",
     "varRefreshCmd": "print(var_dic_list())"
    },
    "r": {
     "delete_cmd_postfix": ") ",
     "delete_cmd_prefix": "rm(",
     "library": "var_list.r",
     "varRefreshCmd": "cat(var_dic_list()) "
    }
   },
   "types_to_exclude": [
    "module",
    "function",
    "builtin_function_or_method",
    "instance",
    "_Feature"
   ],
   "window_display": true
  }
 },
 "nbformat": 4,
 "nbformat_minor": 5
}
